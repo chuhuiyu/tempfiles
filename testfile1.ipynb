{
 "metadata": {
  "language_info": {
   "codemirror_mode": {
    "name": "ipython",
    "version": 3
   },
   "file_extension": ".py",
   "mimetype": "text/x-python",
   "name": "python",
   "nbconvert_exporter": "python",
   "pygments_lexer": "ipython3",
   "version": "3.6.12-final"
  },
  "orig_nbformat": 2,
  "kernelspec": {
   "name": "python3",
   "display_name": "Python 3.6.12 64-bit ('env1': conda)",
   "metadata": {
    "interpreter": {
     "hash": "a5d094013e729c1c20f5f6afbbbdd1470df19a50906a9854ebc6d19400364219"
    }
   }
  }
 },
 "nbformat": 4,
 "nbformat_minor": 2,
 "cells": [
  {
   "cell_type": "code",
   "execution_count": 103,
   "metadata": {},
   "outputs": [
    {
     "output_type": "stream",
     "name": "stdout",
     "text": [
      "Amendment No\\.\\d ([A-Za-z]+ ){0,5}to (loan )?([A-Za-z]+ ){0,2}((credit )|(lien ))?agreement\n\n\n([A-Za-z]+ ){0,2}[Aa]mendment (\\(([A-Za-z]+ )?\"([A-Za-z]+ )?Amendment\"\\) |No.\\d to ([A-Za-z]+ ){0,7})?(to ([A-Za-z]+ )?|of )?amended and restated ([A-Za-z]+ )?credit ([A-Za-z]+ ){0,2}agreement\n\n\n([A-Za-z]+ )amendment to credit agreement( ([A-Za-z]+ ){0,4} credit ([A-Za-z]+ ){0,2}agreement)?\n\n\n([A-Za-z]+ )amendment(, | to | No\\.\\d )?([A-Za-z]+ ){0,7}(to credit agreement|\\(([A-Za-z]+ )?\"([A-Za-z]+ )?Amendment\"\\))?(, in respect of aword aword Amended and Restated Credit Agreement)?\n\n\n\\(([A-Za-z]+ )?\"([A-Za-z]+ )?Amendment\"\\), to ([A-Za-z]+ )CREDIT AGREEMENT\n"
     ]
    }
   ],
   "source": [
    "import re\n",
    " \n",
    "patternar = []\n",
    "aword = '([A-Za-z]+ )'\n",
    "phrase3='\\(%s?\"%s?Amendment\"\\)'% (aword,aword)\n",
    "phrase1 = ', in respect of aword aword Amended and Restated Credit Agreement'\n",
    "phrase2 = 'No.\\d aword{0,7}'\n",
    "\n",
    "p1 = 'Amendment No\\.\\d %s{0,5}to (loan )?%s{0,2}((credit )|(lien ))?agreement' % (aword,aword)\n",
    "print(p1)\n",
    "print('\\n')\n",
    "p2 = '%s{0,2}[Aa]mendment (%s |No.\\d to %s{0,7})?(to %s?|of )?amended and restated %s?credit %s{0,2}agreement' %(aword,phrase3,aword,aword,aword,aword)\n",
    "print(p2)\n",
    "print('\\n')\n",
    "p3 = '%samendment to credit agreement( %s{0,4} credit %s{0,2}agreement)?' % (aword,aword,aword)\n",
    "print(p3)\n",
    "print('\\n')\n",
    "p4 ='%samendment(, | to | No\\.\\d )?%s{0,7}(to credit agreement|%s)?(%s)?' % (aword,aword,phrase3,phrase1)\n",
    "print(p4)\n",
    "print('\\n')\n",
    "p5= '%s, to %sCREDIT AGREEMENT' % (phrase3,aword)\n",
    "print(p5)"
   ]
  },
  {
   "cell_type": "code",
   "execution_count": 73,
   "metadata": {},
   "outputs": [
    {
     "output_type": "stream",
     "name": "stdout",
     "text": [
      "<_sre.SRE_Match object; span=(10, 65), match='Amendment No.1 an an an an an to the the lien agr>\n<_sre.SRE_Match object; span=(10, 50), match='Amendment No.1 to loan the the agreement'>\n<_sre.SRE_Match object; span=(10, 67), match='Amendment No.1 an an an an an to the the credit a>\n"
     ]
    }
   ],
   "source": [
    "pat1 = re.compile(p1)\n",
    "test1= 'asaiaf fa Amendment No.1 an an an an an to the the lien agreement xx xxx '\n",
    "test2= 'asaiaf fa Amendment No.1 to loan the the agreement xx xxx '\n",
    "test3= 'asaiaf fa Amendment No.1 an an an an an to the the credit agreement xx xxx '\n",
    "for t in [test1,test2,test3]:\n",
    "    indx = pat1.search(t)\n",
    "    print(indx)"
   ]
  },
  {
   "cell_type": "code",
   "execution_count": 75,
   "metadata": {},
   "outputs": [
    {
     "output_type": "stream",
     "name": "stdout",
     "text": [
      "<_sre.SRE_Match object; span=(0, 72), match='Amendment No.1 to X X X X X X X to amended and re>\n<_sre.SRE_Match object; span=(0, 52), match='X amendment to amended and restated credit agreem>\n<_sre.SRE_Match object; span=(0, 52), match='X amendment of amended and restated credit agreem>\n<_sre.SRE_Match object; span=(0, 54), match='X amendment to X amended and restated credit agre>\n<_sre.SRE_Match object; span=(0, 80), match='X X amendment (X \"X Amendment\") to X amended and >\n"
     ]
    }
   ],
   "source": [
    "pat2 = re.compile(p22)\n",
    "test21 = 'Amendment No.1 to X X X X X X X to amended and restated credit agreement'\n",
    "test22 = 'X amendment to amended and restated credit agreement'\n",
    "test23='X amendment of amended and restated credit agreement'\n",
    "test24='X amendment to X amended and restated credit agreement'\n",
    "test25='X X amendment (X \"X Amendment\") to X amended and restated X credit X X agreement'\n",
    "for t in [test21,test22,test23,test24,test25]:\n",
    "    indx = pat2.search(t)\n",
    "    print(indx)"
   ]
  },
  {
   "cell_type": "code",
   "execution_count": 82,
   "metadata": {},
   "outputs": [
    {
     "output_type": "stream",
     "name": "stdout",
     "text": [
      "<_sre.SRE_Match object; span=(0, 31), match='X amendment to credit agreement'>\n<_sre.SRE_Match object; span=(0, 31), match='X amendment to credit agreement'>\n"
     ]
    }
   ],
   "source": [
    "pat3 = re.compile(p3)\n",
    "test31 = 'X amendment to credit agreement X X X X credit X X agreement'\n",
    "test32 = 'X amendment to credit agreement'\n",
    "\n",
    "\n",
    "for t in [test31,test32]:\n",
    "    indx = pat3.search(t)\n",
    "    print(indx)"
   ]
  },
  {
   "cell_type": "code",
   "execution_count": 104,
   "metadata": {},
   "outputs": [
    {
     "output_type": "stream",
     "name": "stdout",
     "text": [
      "([A-Za-z]+ )amendment(, | to | No\\.\\d )?([A-Za-z]+ ){0,7}(to credit agreement|\\(([A-Za-z]+ )?\"([A-Za-z]+ )?Amendment\"\\))?(, in respect of aword aword Amended and Restated Credit Agreement)?\n<_sre.SRE_Match object; span=(0, 48), match='X amendment No.1 X X X X X X X (X \"X Amendment\")'>\n<_sre.SRE_Match object; span=(0, 48), match='X amendment to X X X X X X X to credit agreement'>\n<_sre.SRE_Match object; span=(0, 44), match='X amendment, X X X X X X X (X \"X Amendment\")'>\n<_sre.SRE_Match object; span=(0, 44), match='X amendment, X X X X X X X (X \"X Amendment\")'>\n"
     ]
    }
   ],
   "source": [
    "pat4 = re.compile(p4)\n",
    "print(p4)\n",
    "test41 ='X amendment No.1 X X X X X X X (X \"X Amendment\")'\n",
    "test42 ='X amendment to X X X X X X X to credit agreement'\n",
    "test43 ='X amendment, X X X X X X X (X \"X Amendment\"), in respect of X X Amended and Restated Credit Agreement'\n",
    "test44 ='X amendment, X X X X X X X (X \"X Amendment\"), in respect of X X Amended and Restated Credit Agreement'\n",
    "for t in [test41,test42,test43,test44]:\n",
    "    indx = pat4.search(t)\n",
    "    print(indx)"
   ]
  },
  {
   "cell_type": "code",
   "execution_count": 97,
   "metadata": {},
   "outputs": [
    {
     "output_type": "stream",
     "name": "stdout",
     "text": [
      "\\(([A-Za-z]+ )?\"([A-Za-z]+ )?Amendment\"\\), to ([A-Za-z]+ )\n<_sre.SRE_Match object; span=(0, 24), match='(X \"X Amendment\"), to X '>\n"
     ]
    }
   ],
   "source": [
    "pat5 = re.compile(p5)\n",
    "print(p5)\n",
    "test5 = '(X \"X Amendment\"), to X CREDIT AGREEMENT'\n",
    "print(pat5.search(test5))\n"
   ]
  },
  {
   "cell_type": "code",
   "execution_count": 106,
   "metadata": {},
   "outputs": [
    {
     "output_type": "stream",
     "name": "stdout",
     "text": [
      "Amendment No\\.\\d ([A-Za-z]+ ){0,5}to (loan )?([A-Za-z]+ ){0,2}((credit )|(lien ))?agreement\n---\n([A-Za-z]+ ){0,2}[Aa]mendment (\\(([A-Za-z]+ )?\"([A-Za-z]+ )?Amendment\"\\) |No.\\d to ([A-Za-z]+ ){0,7})?(to ([A-Za-z]+ )?|of )?amended and restated ([A-Za-z]+ )?credit ([A-Za-z]+ ){0,2}agreement\n---\n([A-Za-z]+ )amendment to credit agreement( ([A-Za-z]+ ){0,4} credit ([A-Za-z]+ ){0,2}agreement)?\n---\n([A-Za-z]+ )amendment(, | to | No\\.\\d )?([A-Za-z]+ ){0,7}(to credit agreement|\\(([A-Za-z]+ )?\"([A-Za-z]+ )?Amendment\"\\))?(, in respect of aword aword Amended and Restated Credit Agreement)?\n---\n\\(([A-Za-z]+ )?\"([A-Za-z]+ )?Amendment\"\\), to ([A-Za-z]+ )CREDIT AGREEMENT\n"
     ]
    }
   ],
   "source": [
    "print(p1)\n",
    "print('---')\n",
    "print(p2)\n",
    "print('---')\n",
    "print(p3)\n",
    "print('---')\n",
    "print(p4)\n",
    "print('---')\n",
    "print(p5)"
   ]
  },
  {
   "cell_type": "code",
   "execution_count": 107,
   "metadata": {},
   "outputs": [
    {
     "output_type": "stream",
     "name": "stdout",
     "text": [
      "<_sre.SRE_Match object; span=(10, 65), match='Amendment No.1 an an an an an to the the lien agr>\n<_sre.SRE_Match object; span=(10, 50), match='Amendment No.1 to loan the the agreement'>\n<_sre.SRE_Match object; span=(10, 67), match='Amendment No.1 an an an an an to the the credit a>\n<_sre.SRE_Match object; span=(0, 72), match='Amendment No.1 to X X X X X X X to amended and re>\n<_sre.SRE_Match object; span=(0, 52), match='X amendment to amended and restated credit agreem>\n<_sre.SRE_Match object; span=(0, 52), match='X amendment of amended and restated credit agreem>\n<_sre.SRE_Match object; span=(0, 54), match='X amendment to X amended and restated credit agre>\n<_sre.SRE_Match object; span=(0, 80), match='X X amendment (X \"X Amendment\") to X amended and >\n<_sre.SRE_Match object; span=(0, 31), match='X amendment to credit agreement'>\n<_sre.SRE_Match object; span=(0, 31), match='X amendment to credit agreement'>\n<_sre.SRE_Match object; span=(0, 48), match='X amendment No.1 X X X X X X X (X \"X Amendment\")'>\n<_sre.SRE_Match object; span=(0, 48), match='X amendment to X X X X X X X to credit agreement'>\n<_sre.SRE_Match object; span=(0, 44), match='X amendment, X X X X X X X (X \"X Amendment\")'>\n<_sre.SRE_Match object; span=(0, 44), match='X amendment, X X X X X X X (X \"X Amendment\")'>\n<_sre.SRE_Match object; span=(0, 40), match='(X \"X Amendment\"), to X CREDIT AGREEMENT'>\n"
     ]
    }
   ],
   "source": [
    "pfinal = '({0})|({1})|({2})|({3})|({4})'.format(p1,p2,p3,p4,p5) \n",
    "pat_final = re.compile(pfinal)\n",
    "for t in [test1,test2,test3,test21,test22,test23,test24,test25,test31,test32,test41,test42,test43,test44,test5]:\n",
    "    indx = pat_final.search(t)\n",
    "    print(indx)"
   ]
  },
  {
   "cell_type": "code",
   "execution_count": 108,
   "metadata": {},
   "outputs": [
    {
     "output_type": "stream",
     "name": "stdout",
     "text": [
      "(Amendment No\\.\\d ([A-Za-z]+ ){0,5}to (loan )?([A-Za-z]+ ){0,2}((credit )|(lien ))?agreement)|(([A-Za-z]+ ){0,2}[Aa]mendment (\\(([A-Za-z]+ )?\"([A-Za-z]+ )?Amendment\"\\) |No.\\d to ([A-Za-z]+ ){0,7})?(to ([A-Za-z]+ )?|of )?amended and restated ([A-Za-z]+ )?credit ([A-Za-z]+ ){0,2}agreement)|(([A-Za-z]+ )amendment to credit agreement( ([A-Za-z]+ ){0,4} credit ([A-Za-z]+ ){0,2}agreement)?)|(([A-Za-z]+ )amendment(, | to | No\\.\\d )?([A-Za-z]+ ){0,7}(to credit agreement|\\(([A-Za-z]+ )?\"([A-Za-z]+ )?Amendment\"\\))?(, in respect of aword aword Amended and Restated Credit Agreement)?)|(\\(([A-Za-z]+ )?\"([A-Za-z]+ )?Amendment\"\\), to ([A-Za-z]+ )CREDIT AGREEMENT)\n"
     ]
    }
   ],
   "source": [
    "print(pfinal)"
   ]
  },
  {
   "cell_type": "code",
   "execution_count": null,
   "metadata": {},
   "outputs": [],
   "source": []
  }
 ]
}